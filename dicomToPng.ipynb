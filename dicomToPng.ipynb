{
 "cells": [
  {
   "cell_type": "code",
   "execution_count": 2,
   "id": "08a4da05-d98a-471e-9a35-9a0dc439f14f",
   "metadata": {},
   "outputs": [
    {
     "ename": "FileNotFoundError",
     "evalue": "[Errno 2] No such file or directory: 'C:\\\\Users\\\\KOMAL YADAV\\\\Downloads\\\\3Dircadb1\\\\3Dircadb1\\\\3Dircadb1.1\\\\PATIENT_DICOM\\\\image_0.dcm'",
     "output_type": "error",
     "traceback": [
      "\u001b[1;31m---------------------------------------------------------------------------\u001b[0m",
      "\u001b[1;31mFileNotFoundError\u001b[0m                         Traceback (most recent call last)",
      "Cell \u001b[1;32mIn[2], line 93\u001b[0m\n\u001b[0;32m     91\u001b[0m dcm_file \u001b[38;5;241m=\u001b[39m \u001b[38;5;124mr\u001b[39m\u001b[38;5;124m\"\u001b[39m\u001b[38;5;124mC:\u001b[39m\u001b[38;5;124m\\\u001b[39m\u001b[38;5;124mUsers\u001b[39m\u001b[38;5;124m\\\u001b[39m\u001b[38;5;124mKOMAL YADAV\u001b[39m\u001b[38;5;124m\\\u001b[39m\u001b[38;5;124mDownloads\u001b[39m\u001b[38;5;124m\\\u001b[39m\u001b[38;5;124m3Dircadb1\u001b[39m\u001b[38;5;124m\\\u001b[39m\u001b[38;5;124m3Dircadb1\u001b[39m\u001b[38;5;124m\\\u001b[39m\u001b[38;5;124m3Dircadb1.1\u001b[39m\u001b[38;5;124m\\\u001b[39m\u001b[38;5;124mPATIENT_DICOM\u001b[39m\u001b[38;5;124m\\\u001b[39m\u001b[38;5;124mimage_0.dcm\u001b[39m\u001b[38;5;124m\"\u001b[39m\n\u001b[0;32m     92\u001b[0m png_file \u001b[38;5;241m=\u001b[39m \u001b[38;5;124mr\u001b[39m\u001b[38;5;124m\"\u001b[39m\u001b[38;5;124mC:\u001b[39m\u001b[38;5;124m\\\u001b[39m\u001b[38;5;124mUsers\u001b[39m\u001b[38;5;124m\\\u001b[39m\u001b[38;5;124mKOMAL YADAV\u001b[39m\u001b[38;5;124m\\\u001b[39m\u001b[38;5;124mDownloads\u001b[39m\u001b[38;5;124m\\\u001b[39m\u001b[38;5;124mconverted_image.png\u001b[39m\u001b[38;5;124m\"\u001b[39m\n\u001b[1;32m---> 93\u001b[0m \u001b[43mconvert_dcm_to_png\u001b[49m\u001b[43m(\u001b[49m\u001b[43mdcm_file\u001b[49m\u001b[43m,\u001b[49m\u001b[43m \u001b[49m\u001b[43mpng_file\u001b[49m\u001b[43m)\u001b[49m\n",
      "Cell \u001b[1;32mIn[2], line 76\u001b[0m, in \u001b[0;36mconvert_dcm_to_png\u001b[1;34m(dcm_path, png_path)\u001b[0m\n\u001b[0;32m     74\u001b[0m \u001b[38;5;28;01mdef\u001b[39;00m \u001b[38;5;21mconvert_dcm_to_png\u001b[39m(dcm_path, png_path):\n\u001b[0;32m     75\u001b[0m     \u001b[38;5;66;03m# Read the DICOM file\u001b[39;00m\n\u001b[1;32m---> 76\u001b[0m     dicom \u001b[38;5;241m=\u001b[39m \u001b[43mpydicom\u001b[49m\u001b[38;5;241;43m.\u001b[39;49m\u001b[43mdcmread\u001b[49m\u001b[43m(\u001b[49m\u001b[43mdcm_path\u001b[49m\u001b[43m)\u001b[49m\n\u001b[0;32m     78\u001b[0m     \u001b[38;5;66;03m# Convert pixel data to NumPy array\u001b[39;00m\n\u001b[0;32m     79\u001b[0m     image_array \u001b[38;5;241m=\u001b[39m dicom\u001b[38;5;241m.\u001b[39mpixel_array\n",
      "File \u001b[1;32m~\\AppData\\Local\\Programs\\Python\\Python311\\Lib\\site-packages\\pydicom\\filereader.py:1042\u001b[0m, in \u001b[0;36mdcmread\u001b[1;34m(fp, defer_size, stop_before_pixels, force, specific_tags)\u001b[0m\n\u001b[0;32m   1040\u001b[0m     caller_owns_file \u001b[38;5;241m=\u001b[39m \u001b[38;5;28;01mFalse\u001b[39;00m\n\u001b[0;32m   1041\u001b[0m     logger\u001b[38;5;241m.\u001b[39mdebug(\u001b[38;5;124mf\u001b[39m\u001b[38;5;124m\"\u001b[39m\u001b[38;5;124mReading file \u001b[39m\u001b[38;5;124m'\u001b[39m\u001b[38;5;132;01m{\u001b[39;00mfp\u001b[38;5;132;01m}\u001b[39;00m\u001b[38;5;124m'\u001b[39m\u001b[38;5;124m\"\u001b[39m)\n\u001b[1;32m-> 1042\u001b[0m     fp \u001b[38;5;241m=\u001b[39m \u001b[38;5;28;43mopen\u001b[39;49m\u001b[43m(\u001b[49m\u001b[43mfp\u001b[49m\u001b[43m,\u001b[49m\u001b[43m \u001b[49m\u001b[38;5;124;43m\"\u001b[39;49m\u001b[38;5;124;43mrb\u001b[39;49m\u001b[38;5;124;43m\"\u001b[39;49m\u001b[43m)\u001b[49m\n\u001b[0;32m   1043\u001b[0m \u001b[38;5;28;01melif\u001b[39;00m (\n\u001b[0;32m   1044\u001b[0m     fp \u001b[38;5;129;01mis\u001b[39;00m \u001b[38;5;28;01mNone\u001b[39;00m\n\u001b[0;32m   1045\u001b[0m     \u001b[38;5;129;01mor\u001b[39;00m \u001b[38;5;129;01mnot\u001b[39;00m \u001b[38;5;28mhasattr\u001b[39m(fp, \u001b[38;5;124m\"\u001b[39m\u001b[38;5;124mread\u001b[39m\u001b[38;5;124m\"\u001b[39m)\n\u001b[0;32m   1046\u001b[0m     \u001b[38;5;129;01mor\u001b[39;00m \u001b[38;5;129;01mnot\u001b[39;00m \u001b[38;5;28mhasattr\u001b[39m(fp, \u001b[38;5;124m\"\u001b[39m\u001b[38;5;124mseek\u001b[39m\u001b[38;5;124m\"\u001b[39m)\n\u001b[0;32m   1047\u001b[0m     \u001b[38;5;129;01mor\u001b[39;00m \u001b[38;5;129;01mnot\u001b[39;00m \u001b[38;5;28mhasattr\u001b[39m(fp, \u001b[38;5;124m\"\u001b[39m\u001b[38;5;124mtell\u001b[39m\u001b[38;5;124m\"\u001b[39m)\n\u001b[0;32m   1048\u001b[0m ):\n\u001b[0;32m   1049\u001b[0m     \u001b[38;5;28;01mraise\u001b[39;00m \u001b[38;5;167;01mTypeError\u001b[39;00m(\n\u001b[0;32m   1050\u001b[0m         \u001b[38;5;124m\"\u001b[39m\u001b[38;5;124mdcmread: Expected a file path, file-like or readable buffer, \u001b[39m\u001b[38;5;124m\"\u001b[39m\n\u001b[0;32m   1051\u001b[0m         \u001b[38;5;124mf\u001b[39m\u001b[38;5;124m\"\u001b[39m\u001b[38;5;124mbut got \u001b[39m\u001b[38;5;132;01m{\u001b[39;00m\u001b[38;5;28mtype\u001b[39m(fp)\u001b[38;5;241m.\u001b[39m\u001b[38;5;18m__name__\u001b[39m\u001b[38;5;132;01m}\u001b[39;00m\u001b[38;5;124m\"\u001b[39m\n\u001b[0;32m   1052\u001b[0m     )\n",
      "\u001b[1;31mFileNotFoundError\u001b[0m: [Errno 2] No such file or directory: 'C:\\\\Users\\\\KOMAL YADAV\\\\Downloads\\\\3Dircadb1\\\\3Dircadb1\\\\3Dircadb1.1\\\\PATIENT_DICOM\\\\image_0.dcm'"
     ]
    }
   ],
   "source": [
    "# import os\n",
    "# import pydicom\n",
    "# import numpy as np\n",
    "# from PIL import Image\n",
    "\n",
    "# # Define input and output directories\n",
    "# input_dir = r\"C:\\Users\\KOMAL YADAV\\Downloads\\3Dircadb1\\3Dircadb1\\3Dircadb1.1\\PATIENT_DICOM\\PATIENT_DICOM\"\n",
    "# output_dir = r\"C:\\Users\\KOMAL YADAV\\Downloads\\3Dircadb1\\3Dircadb1\\3Dircadb1.1\\PATIENT_png\"\n",
    "\n",
    "# # Ensure output directory exists, and print debug info\n",
    "# try:\n",
    "#     os.makedirs(output_dir, exist_ok=True)\n",
    "#     print(f\"Output folder created: {output_dir}\")\n",
    "# except Exception as e:\n",
    "#     print(f\"Error creating output folder: {e}\")\n",
    "#     exit(1)\n",
    "\n",
    "# # Verify input directory exists\n",
    "# if not os.path.exists(input_dir):\n",
    "#     print(f\"Error: Input directory '{input_dir}' does not exist.\")\n",
    "#     exit(1)\n",
    "\n",
    "# # List files in input directory\n",
    "# try:\n",
    "#     files = os.listdir(input_dir)\n",
    "#     if not files:\n",
    "#         print(\"No files found in the input directory.\")\n",
    "#         exit(1)\n",
    "#     else:\n",
    "#         print(f\"Found {len(files)} files in input directory.\")\n",
    "# except Exception as e:\n",
    "#     print(f\"Error accessing input directory: {e}\")\n",
    "#     exit(1)\n",
    "\n",
    "# # Process each DICOM file\n",
    "# for filename in files:\n",
    "#     if filename.lower().endswith(\".dcm\"):  # Case-insensitive check for DICOM files\n",
    "#         dicom_path = os.path.join(input_dir, filename)\n",
    "        \n",
    "#         try:\n",
    "#             # Read DICOM file\n",
    "#             dicom_data = pydicom.dcmread(dicom_path)\n",
    "            \n",
    "#             # Check if file contains pixel data\n",
    "#             if not hasattr(dicom_data, 'pixel_array'):\n",
    "#                 print(f\"Skipping {filename}: No pixel data found.\")\n",
    "#                 continue\n",
    "\n",
    "#             # Convert pixel data to NumPy array\n",
    "#             image_array = dicom_data.pixel_array.astype(np.uint8)\n",
    "\n",
    "#             # Convert to PIL Image\n",
    "#             image = Image.fromarray(image_array)\n",
    "\n",
    "#             # Save as PNG\n",
    "#             output_filename = os.path.splitext(filename)[0] + \".png\"\n",
    "#             output_path = os.path.join(output_dir, output_filename)\n",
    "\n",
    "#             print(f\"Saving to: {output_path}\")  # Debugging statement\n",
    "#             image.save(output_path)\n",
    "#             print(f\"Converted: {filename} → {output_filename}\")\n",
    "\n",
    "#         except Exception as e:\n",
    "#             print(f\"Error processing {filename}: {e}\")\n",
    "\n",
    "# print(\"\\nDICOM to PNG conversion completed!\")\n",
    "\n",
    "\n"
   ]
  },
  {
   "cell_type": "code",
   "execution_count": null,
   "id": "2e24ed43-b589-4c89-a84d-93e12d372d2f",
   "metadata": {},
   "outputs": [],
   "source": []
  }
 ],
 "metadata": {
  "kernelspec": {
   "display_name": "Python 3 (ipykernel)",
   "language": "python",
   "name": "python3"
  },
  "language_info": {
   "codemirror_mode": {
    "name": "ipython",
    "version": 3
   },
   "file_extension": ".py",
   "mimetype": "text/x-python",
   "name": "python",
   "nbconvert_exporter": "python",
   "pygments_lexer": "ipython3",
   "version": "3.11.6"
  }
 },
 "nbformat": 4,
 "nbformat_minor": 5
}
